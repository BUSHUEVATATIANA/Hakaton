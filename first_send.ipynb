{
 "cells": [
  {
   "cell_type": "markdown",
   "id": "8cad9d56-d01d-48be-9ead-4a12ff59afd3",
   "metadata": {},
   "source": [
    "# Baseline решение от команды mipt dudes ( Черновик )"
   ]
  },
  {
   "cell_type": "markdown",
   "id": "6ff94fa2-fcd8-4432-83b3-6ec497e25842",
   "metadata": {},
   "source": [
    "## Библиотеки и таблица с данными"
   ]
  },
  {
   "cell_type": "code",
   "execution_count": 39,
   "id": "2387684f-c35e-4b1e-8398-156aa14d8f08",
   "metadata": {},
   "outputs": [],
   "source": [
    "import pandas as pd\n",
    "import numpy as np\n",
    "import spacy\n",
    "from sklearn.metrics.pairwise import cosine_similarity\n",
    "from transformers import BertTokenizer, BertModel\n",
    "import torch\n",
    "import torch.nn.functional as F\n",
    "from transformers import AutoTokenizer, AutoModel\n",
    "import matplotlib.pyplot as plt"
   ]
  },
  {
   "cell_type": "code",
   "execution_count": 29,
   "id": "4381344d-104d-41bf-9983-500e8bf437b7",
   "metadata": {},
   "outputs": [
    {
     "name": "stdout",
     "output_type": "stream",
     "text": [
      "(47021, 3)\n"
     ]
    },
    {
     "data": {
      "text/html": [
       "<div>\n",
       "<style scoped>\n",
       "    .dataframe tbody tr th:only-of-type {\n",
       "        vertical-align: middle;\n",
       "    }\n",
       "\n",
       "    .dataframe tbody tr th {\n",
       "        vertical-align: top;\n",
       "    }\n",
       "\n",
       "    .dataframe thead th {\n",
       "        text-align: right;\n",
       "    }\n",
       "</style>\n",
       "<table border=\"1\" class=\"dataframe\">\n",
       "  <thead>\n",
       "    <tr style=\"text-align: right;\">\n",
       "      <th></th>\n",
       "      <th>query</th>\n",
       "      <th>text</th>\n",
       "      <th>label</th>\n",
       "    </tr>\n",
       "  </thead>\n",
       "  <tbody>\n",
       "    <tr>\n",
       "      <th>0</th>\n",
       "      <td>Когда был спущен на воду первый миноносец «Спо...</td>\n",
       "      <td>Зачислен в списки ВМФ СССР 19 августа 1952 год...</td>\n",
       "      <td>1</td>\n",
       "    </tr>\n",
       "    <tr>\n",
       "      <th>1</th>\n",
       "      <td>Как долго существовало британское телевизионно...</td>\n",
       "      <td>Хрустальный лабиринт (\"The Crystal Maze\") — бр...</td>\n",
       "      <td>1</td>\n",
       "    </tr>\n",
       "    <tr>\n",
       "      <th>2</th>\n",
       "      <td>Когда родилась Князева Марина Леонидовна?</td>\n",
       "      <td>Князева Марина Леонидовна (род. 7 мая 1952 г.)...</td>\n",
       "      <td>1</td>\n",
       "    </tr>\n",
       "    <tr>\n",
       "      <th>3</th>\n",
       "      <td>Кто был главным художником мира Зен?</td>\n",
       "      <td>В книге \"Half-Life 2: Raising the Bar\" художни...</td>\n",
       "      <td>1</td>\n",
       "    </tr>\n",
       "    <tr>\n",
       "      <th>4</th>\n",
       "      <td>Как звали предполагаемого убийцу Джона Кеннеди?</td>\n",
       "      <td>В 1966 году окружной прокурор Нового Орлеана Д...</td>\n",
       "      <td>1</td>\n",
       "    </tr>\n",
       "  </tbody>\n",
       "</table>\n",
       "</div>"
      ],
      "text/plain": [
       "                                               query  \\\n",
       "0  Когда был спущен на воду первый миноносец «Спо...   \n",
       "1  Как долго существовало британское телевизионно...   \n",
       "2          Когда родилась Князева Марина Леонидовна?   \n",
       "3               Кто был главным художником мира Зен?   \n",
       "4    Как звали предполагаемого убийцу Джона Кеннеди?   \n",
       "\n",
       "                                                text  label  \n",
       "0  Зачислен в списки ВМФ СССР 19 августа 1952 год...      1  \n",
       "1  Хрустальный лабиринт (\"The Crystal Maze\") — бр...      1  \n",
       "2  Князева Марина Леонидовна (род. 7 мая 1952 г.)...      1  \n",
       "3  В книге \"Half-Life 2: Raising the Bar\" художни...      1  \n",
       "4  В 1966 году окружной прокурор Нового Орлеана Д...      1  "
      ]
     },
     "execution_count": 29,
     "metadata": {},
     "output_type": "execute_result"
    }
   ],
   "source": [
    "df = pd.read_csv('data.csv')\n",
    "df = df.drop(columns=['embedding_text', 'embedding_query'])\n",
    "print(df.shape)\n",
    "df.head()"
   ]
  },
  {
   "cell_type": "markdown",
   "id": "a6cbfdf1-eddf-4cf4-8045-7fd8239e6116",
   "metadata": {},
   "source": [
    "## Метрика "
   ]
  },
  {
   "cell_type": "markdown",
   "id": "83090349-ea38-4934-857b-bef6e4c4b854",
   "metadata": {},
   "source": [
    "Интуиция - предполагается что будет дальнейшая обработка результата, так что нам важно хорошо попадать в первые топ N ответов. При этом хочется чтобы все правильные ответы шли выше чем неправильные.  \n",
    "\n",
    "Пусть n - этого всего ответов на запрос, из них k - правильных.  \n",
    "\n",
    "Метрика это процент правильных ответов, которые находятся среди первых max(3, k) позиций после ранжирования\n"
   ]
  },
  {
   "cell_type": "code",
   "execution_count": 6,
   "id": "63483cbb-eab8-4dce-8f41-64594c7ffb81",
   "metadata": {},
   "outputs": [],
   "source": [
    "def custom_metric(df_sorted):\n",
    "    # n - общее количество ответов, k - количество правильных ответов\n",
    "    n = len(df_sorted)\n",
    "    k = df_sorted['label'].sum()\n",
    "    \n",
    "    # Количество позиций для оценки\n",
    "    top_k = max(3, int(k))\n",
    "    \n",
    "    # Отбираем первые top_k ответов после ранжирования\n",
    "    top_k_answers = df_sorted.iloc[:top_k]\n",
    "    \n",
    "    # Считаем количество правильных ответов среди первых top_k\n",
    "    correct_in_top_k = top_k_answers['label'].sum()\n",
    "    \n",
    "    # Рассчитываем процент правильных ответов среди первых top_k\n",
    "    score = correct_in_top_k / k\n",
    "    \n",
    "    return score\n"
   ]
  },
  {
   "cell_type": "markdown",
   "id": "67cf14d7-fdc4-4943-ab89-71fbb05f4c88",
   "metadata": {},
   "source": [
    "## Ранжирование"
   ]
  },
  {
   "cell_type": "markdown",
   "id": "db74d3b2-159b-4c34-9c18-b7ce1e133954",
   "metadata": {},
   "source": [
    "Ранжирование основано на косинусное мере близости эмбеддингов предложений.  \n",
    "\n",
    "Мы просто берём эмбеддинги из предобученной модели и считаем косинусное расстояние от эмбеддинга вопроса к эмбеддингу ответа.  \n",
    "\n",
    "Далее делаем софтмакс по всем ответам к конкретному запросу и добавляем полученные вероятности в таблицу.  \n",
    "\n",
    "Возвращаем отсортированную==отранжированную таблицу."
   ]
  },
  {
   "cell_type": "code",
   "execution_count": 9,
   "id": "f31d58d7-f88b-4975-a327-ed99099211be",
   "metadata": {},
   "outputs": [],
   "source": [
    "def rank_answers(df, model_name='cointegrated/rubert-tiny'):\n",
    "    tokenizer = AutoTokenizer.from_pretrained(model_name)\n",
    "    model = AutoModel.from_pretrained(model_name)\n",
    "    \n",
    "    # Применяем токенизацию с обрезанием длины\n",
    "    def encode_text(text):\n",
    "        return tokenizer.encode(text, max_length=512, truncation=True, return_tensors='pt')\n",
    "    queries = df['query'].apply(encode_text)\n",
    "    answers = df['text'].apply(encode_text)\n",
    "    \n",
    "    # Рассчитываем косинусное сходствo\n",
    "    similarities = []\n",
    "    for query, answer in zip(queries, answers):\n",
    "        with torch.no_grad():\n",
    "            query_embedding = model(query).last_hidden_state.mean(dim=1)  # Получаем эмбеддинг для запроса\n",
    "            answer_embedding = model(answer).last_hidden_state.mean(dim=1)  # Эмбеддинг для ответа\n",
    "            similarity = torch.cosine_similarity(query_embedding, answer_embedding).item()\n",
    "            similarities.append(similarity)\n",
    "    \n",
    "    # Применяем softmax к косинусным сходствам\n",
    "    similarities_tensor = torch.tensor(similarities)\n",
    "    similarities_softmax = F.softmax(similarities_tensor, dim=0).numpy()\n",
    "    \n",
    "    df_copy = df.copy()\n",
    "    df_copy['similarity'] = similarities_softmax\n",
    "    \n",
    "    # Сортируем по сходству\n",
    "    df_sorted = df_copy.sort_values(by='similarity', ascending=False).reset_index(drop=True)\n",
    "    return df_sorted"
   ]
  },
  {
   "cell_type": "markdown",
   "id": "5d416c85-d951-45ed-9197-e0cbee79c6cb",
   "metadata": {},
   "source": [
    "## Эксперимент"
   ]
  },
  {
   "cell_type": "code",
   "execution_count": null,
   "id": "099d9434-32dc-4c5e-9eeb-f9e302bf8b8b",
   "metadata": {
    "scrolled": true
   },
   "outputs": [],
   "source": [
    "res = []\n",
    "#i=0\n",
    "for quey, text in df.groupby('query'):\n",
    "    i+=1\n",
    "    x = rank_answers(text)\n",
    "    score = custom_metric(x)\n",
    "    n = len(x)\n",
    "    k = x['label'].sum()\n",
    "    res.append([quey,score, n, k])\n",
    "    print(quey, 'score =',score,'N =',n, 'K =', k)\n",
    "    #if i ==6:\n",
    "    #    break"
   ]
  },
  {
   "cell_type": "code",
   "execution_count": 18,
   "id": "460d9a45-4521-4503-9279-43a84fb7cec0",
   "metadata": {},
   "outputs": [
    {
     "data": {
      "text/plain": [
       "5935"
      ]
     },
     "execution_count": 18,
     "metadata": {},
     "output_type": "execute_result"
    }
   ],
   "source": [
    "len(res)"
   ]
  },
  {
   "cell_type": "code",
   "execution_count": 33,
   "id": "5461ba47-24b1-4d66-9333-8b2f34491a59",
   "metadata": {},
   "outputs": [
    {
     "name": "stdout",
     "output_type": "stream",
     "text": [
      "0.5862124068947995 7.922662173546756 2.2847514743049704\n"
     ]
    }
   ],
   "source": [
    "summ_score = 0\n",
    "summ_N = 0\n",
    "summ_k = 0\n",
    "for elem in res:\n",
    "    summ_score += elem[1]\n",
    "    summ_N += elem[2]\n",
    "    summ_k += elem[3]\n",
    "print(summ_score/len(res),summ_N/len(res),summ_k/len(res) )"
   ]
  },
  {
   "cell_type": "markdown",
   "id": "f7ba918c-e41c-4da7-996f-7a7203969387",
   "metadata": {},
   "source": [
    "**В среднем 8 ответом, из них 2.3 правильных, мы находим их в топ 3 не хуже чем с вероятностью 58%, что сильно лучше случайного гадания.**"
   ]
  },
  {
   "cell_type": "code",
   "execution_count": 38,
   "id": "7dd79f57-6481-432f-af61-79c9136618f1",
   "metadata": {},
   "outputs": [
    {
     "name": "stdout",
     "output_type": "stream",
     "text": [
      "[[1, 1.0], [2, 1.0], [3, 1.0], [4, 0.8571428571428571], [5, 0.9722222222222222], [8, 1.0], [9, 0.4143939393939394], [10, 0.45399301561741184], [11, 0.39907781695861166], [12, 0.43904761904761913], [13, 0.35815412186379925], [14, 0.4555555555555556], [15, 0.5476190476190476], [16, 0.3333333333333333], [17, 0.2833333333333333], [18, 0.3333333333333333], [19, 0.25]]\n",
      "----------\n",
      "[[1, 1.0], [2, 1.0], [3, 1.0], [4, 0.8571428571428571], [5, 0.9722222222222222], [8, 1.0], [9, 0.4143939393939394], [10, 0.45399301561741184], [11, 0.39907781695861166], [12, 0.43904761904761913], [13, 0.35815412186379925], [14, 0.4555555555555556], [15, 0.5476190476190476], [16, 0.3333333333333333], [17, 0.2833333333333333], [18, 0.3333333333333333], [19, 0.25]]\n"
     ]
    }
   ],
   "source": [
    "from collections import defaultdict\n",
    "\n",
    "res_dict_N = defaultdict(float)\n",
    "res_dict_N_count = defaultdict(int)\n",
    "res_dict_k = defaultdict(float)\n",
    "res_dict_k_count = defaultdict(int)\n",
    "\n",
    "for elem in res:\n",
    "    res_dict_N[elem[2]] += elem[1]\n",
    "    res_dict_N_count[elem[2]] += 1\n",
    "    res_dict_k[elem[3]] += elem[1]\n",
    "    res_dict_k_count[elem[3]] += 1\n",
    "list_for_N = []\n",
    "for key, value in res_dict_N.items():\n",
    "    list_for_N.append([key, value/res_dict_N_count[key]])\n",
    "\n",
    "print(sorted(list_for_N))\n",
    "print('----------')\n",
    "list_for_k = []\n",
    "for key, value in res_dict_k.items():\n",
    "    list_for_k.append([key, value/res_dict_k_count[key]])\n",
    "    \n",
    "print(sorted(list_for_N))"
   ]
  },
  {
   "cell_type": "code",
   "execution_count": 43,
   "id": "9c7055c6-0097-479f-a388-fc73dbbb858a",
   "metadata": {},
   "outputs": [
    {
     "data": {
      "image/png": "[encoded data removed]",
      "text/plain": [
       "<Figure size 1200x600 with 2 Axes>"
      ]
     },
     "metadata": {},
     "output_type": "display_data"
    }
   ],
   "source": [
    "# Разделяем списки на отдельные списки для координат x и y\n",
    "N_x = [x[0] for x in list_for_N]\n",
    "N_y = [x[1] for x in list_for_N]\n",
    "\n",
    "k_x = [x[0] for x in list_for_k]\n",
    "k_y = [x[1] for x in list_for_k]\n",
    "\n",
    "plt.figure(figsize=(12, 6))\n",
    "\n",
    "plt.subplot(1, 2, 1)\n",
    "plt.bar(N_x, N_y)\n",
    "plt.xlabel('Всего ответов')\n",
    "plt.ylabel('Наша метрика')\n",
    "plt.title('Гистограмма метрики относительно N')\n",
    "\n",
    "plt.subplot(1, 2, 2)\n",
    "plt.bar(k_x, k_y)\n",
    "plt.xlabel('Всего правильных ответов')\n",
    "plt.ylabel('Наша метрика')\n",
    "plt.title('Гистограмма метрики относительно k')\n",
    "\n",
    "plt.tight_layout()\n",
    "plt.show()"
   ]
  },
  {
   "cell_type": "markdown",
   "id": "115d8bf5-a397-4498-b0c8-d1fa9e9e66e8",
   "metadata": {},
   "source": [
    "## Анализ результатов:\n",
    "  - Разработали решение и метрику оценки результата\n",
    "  - Провели эксперимент\n",
    "    - Результаты нормальные, но проблемы когда мало правильных ответов или много всего вариантов. Но всё же сильно лучше случайного гадания\n",
    "    - Вопросы к эмбеддингам, так как тексты специфичны и содержат много ньюансов. Как пример - наличие букв с указанными ударениями. Такие буквы неправильно воспринимаются моделью эмбеддингов, из-за чего искажается результирующий вектор.\n",
    "  - Как итог план улучшений:\n",
    "    - Исследование новых эмбеддингов\n",
    "    - Предобработка текста\n",
    "    - Улучшение модели, применение других вариантов решений"
   ]
  },
  {
   "cell_type": "markdown",
   "id": "59f54d39-506f-4e41-b539-0d80d7126aee",
   "metadata": {},
   "source": [
    "### Пример с буквой с ударением"
   ]
  },
  {
   "cell_type": "code",
   "execution_count": 21,
   "id": "d1fc26eb-c2c8-47d7-9eda-be3037a8b89b",
   "metadata": {
    "collapsed": true,
    "jupyter": {
     "outputs_hidden": true
    }
   },
   "outputs": [
    {
     "data": {
      "text/plain": [
       "tensor([[ 5.7062e-01,  3.0109e-01, -5.4013e-01, -1.0372e+00, -3.4536e-01,\n",
       "          7.6075e-01,  2.4740e-01, -2.7223e-01, -3.7028e-01, -9.8163e-01,\n",
       "          6.0616e-01, -1.0680e-01, -3.9639e-01,  8.0913e-01, -3.5805e-01,\n",
       "         -1.4527e-01,  4.7264e-01, -1.4870e-01,  8.3897e-01,  1.6099e+00,\n",
       "         -2.3144e-01, -2.1939e-01,  5.2106e-01, -6.8175e-01,  1.1952e+00,\n",
       "         -1.6812e-02,  4.8239e-01,  1.5233e-01,  3.0133e-01,  7.7653e-01,\n",
       "         -3.2775e-01,  3.3021e-01,  2.6976e-01, -2.8723e-01,  7.0539e-02,\n",
       "          9.3151e-01,  1.4906e-01, -5.5081e-01, -4.3074e-01,  8.9520e-02,\n",
       "          3.2299e-01,  2.0453e-01,  1.0696e+00, -5.7897e-01,  2.1416e-01,\n",
       "         -5.0939e-01, -1.0015e-01, -5.3544e-01,  1.4970e-01, -5.0475e-02,\n",
       "          6.5669e-01, -7.0352e-01, -6.4887e-01, -3.8866e-01, -1.1254e+00,\n",
       "          2.1700e-01,  1.0483e+00,  1.2265e-01, -3.5934e-01,  8.0235e-02,\n",
       "          3.0652e-01,  6.1540e-01, -6.3716e-02,  6.5657e-01,  1.6145e-01,\n",
       "          4.6496e-01, -7.0663e-02, -3.7012e-01, -3.9682e-01, -5.8498e-02,\n",
       "         -4.9684e-03, -2.0920e-01, -5.6247e-01, -7.4920e-01, -2.6491e-01,\n",
       "         -7.1589e-01,  4.3257e-01, -9.9693e-01,  4.4987e-01,  6.5103e-01,\n",
       "         -8.0246e-01, -1.0418e-01, -2.1402e-01,  5.7913e-01,  3.9676e-01,\n",
       "         -7.3976e-01, -3.5755e-01,  3.0846e-03,  9.8476e-01,  4.6537e-01,\n",
       "          8.3810e-01,  9.7738e-02,  2.6482e+00, -3.8257e-01, -1.9443e-01,\n",
       "         -2.2452e-01, -9.4318e-02,  7.1230e-01, -1.4583e+00,  9.3170e-01,\n",
       "         -2.4202e-01,  2.4783e-01,  5.0894e-02, -1.3365e-01, -1.3656e-01,\n",
       "         -7.9751e-01, -6.2923e-02,  3.4154e-01,  4.5589e-01,  4.8196e-01,\n",
       "         -9.9097e-02,  6.2889e-02,  2.3421e+00,  1.5312e+00,  1.2210e+00,\n",
       "         -2.6315e-01, -1.8182e+00, -7.0203e-02,  4.6226e-02, -9.0244e-01,\n",
       "         -6.1768e-01, -6.7095e-01, -4.5530e-02,  2.9844e-01, -5.2141e-01,\n",
       "          2.1405e-01,  3.2875e-01,  6.5837e-02, -2.8377e-01,  3.0204e-01,\n",
       "         -7.0582e-01,  1.0837e-01, -1.2870e+00, -4.5152e-01,  1.2790e-01,\n",
       "          7.1138e-01,  4.6900e-01, -3.1045e-01,  1.3544e+00, -2.3270e-01,\n",
       "          4.2068e-02, -1.4845e+00,  5.4081e-01, -3.0935e-01,  5.5272e-01,\n",
       "         -1.1549e+00, -6.2882e-01,  3.7755e-01,  9.2377e-01,  4.2123e-01,\n",
       "         -2.9390e-01, -3.2649e-01,  2.8130e-01, -1.0486e+00,  1.0449e+00,\n",
       "          5.0496e-01,  6.0061e-01, -4.5168e-01, -3.2897e-01, -1.7434e-01,\n",
       "          1.9208e-01, -6.9700e-01, -4.8412e-01,  8.2799e-01, -1.6895e-01,\n",
       "         -1.9880e-01, -8.7807e-02,  5.5401e-01, -7.7373e-01, -8.9464e-02,\n",
       "          3.1534e-01,  4.0835e-01, -9.7741e-01,  3.0623e-01, -2.5006e-02,\n",
       "          9.5939e-01,  5.1250e-01, -9.8734e-02, -6.2339e-01, -1.5092e-01,\n",
       "          6.1738e-01,  4.3496e-02,  9.3875e-01, -8.0918e-02,  6.6942e-01,\n",
       "         -1.4453e-01, -2.1847e-01, -4.7183e-01, -6.9484e-01,  5.1102e-01,\n",
       "          6.9966e-02, -5.7531e-01, -8.1750e-01,  2.2278e-01,  1.5861e+00,\n",
       "         -3.0899e-01,  5.6853e-01,  1.6203e+00, -3.1956e-02, -6.9728e-01,\n",
       "         -2.8061e-01, -2.9579e-02,  3.4716e-01,  1.6819e-01,  3.1169e+00,\n",
       "         -5.0289e-01,  2.0542e+00, -5.5200e-01, -5.7742e-01, -3.9869e-01,\n",
       "          5.2553e-01, -7.9952e-01,  2.2978e-02,  1.3266e+00,  3.5471e-01,\n",
       "         -1.7320e+00,  7.7179e-01,  1.7590e-01, -5.5033e-01, -7.3813e-02,\n",
       "          3.5351e-01, -2.9784e-01,  4.4555e-01,  2.6252e-01, -5.8154e-01,\n",
       "         -6.6293e-01, -3.9531e-01,  1.5049e-02, -9.5498e-01,  8.6884e-01,\n",
       "         -5.0611e-01, -9.1679e-01, -1.3865e-01, -2.9441e-01,  1.3862e-01,\n",
       "         -7.2767e-01, -2.6612e-01, -8.0342e-01, -3.5727e-02, -8.7386e-01,\n",
       "         -1.3083e-01,  2.5552e-04, -5.6101e-01, -9.9824e-02, -1.2241e-02,\n",
       "          4.4934e-02,  5.6919e-02, -1.9625e-01, -1.2087e-01, -8.8801e-01,\n",
       "         -8.6093e-01, -5.7338e-01, -5.5635e-01, -4.9063e-01,  4.7935e-01,\n",
       "         -8.7542e-02,  2.4361e-01, -3.2351e-01,  9.4432e-01,  3.6204e-03,\n",
       "          1.1331e+00, -6.1691e-01, -6.6317e-01,  3.8085e-01, -1.5468e+00,\n",
       "          2.5397e-01, -5.8043e-01, -5.3860e-01,  4.2435e-01, -4.4394e-01,\n",
       "         -2.4516e-01,  1.2744e+00, -3.4686e-01,  1.5386e+00, -5.4354e-01,\n",
       "         -2.7690e-02,  1.3973e-01, -1.8536e-01,  5.7614e-01,  3.3600e-01,\n",
       "          8.1246e-02,  2.8297e-01, -1.3831e+00,  2.0141e-01, -4.9359e-02,\n",
       "          2.1799e-01, -6.1866e-01, -5.8774e-01, -5.3130e-01, -1.0582e+00,\n",
       "          9.1402e-01,  3.1317e-01,  3.9027e-01, -2.4405e-01, -6.5122e-01,\n",
       "          6.1911e-01, -4.1033e-01,  4.5734e-01, -1.9920e-01, -9.4329e-01,\n",
       "          1.7845e-01,  1.6063e-01, -7.0322e-02,  8.1723e-01, -6.0729e-02,\n",
       "          7.1561e-02,  9.7621e-02,  2.6398e-01, -1.6710e-01,  1.0594e+00,\n",
       "          9.3687e-01, -1.3345e+00]])"
      ]
     },
     "execution_count": 21,
     "metadata": {},
     "output_type": "execute_result"
    }
   ],
   "source": [
    "tokenizer = AutoTokenizer.from_pretrained('cointegrated/rubert-tiny')\n",
    "model = AutoModel.from_pretrained('cointegrated/rubert-tiny')\n",
    "    \n",
    "# Применяем токенизацию с обрезанием длины\n",
    "def encode_text(text):\n",
    "    return tokenizer.encode(text, max_length=512, truncation=True, return_tensors='pt')\n",
    "text = encode_text('Костю́шко')\n",
    "\n",
    "with torch.no_grad():\n",
    "    text_embedding1 = model(text).last_hidden_state.mean(dim=1)  # Получаем эмбеддинг для запроса\n",
    "text_embedding1"
   ]
  },
  {
   "cell_type": "code",
   "execution_count": 22,
   "id": "b9c45acb-fbe5-44f8-ae4d-814f7390f817",
   "metadata": {
    "collapsed": true,
    "jupyter": {
     "outputs_hidden": true
    },
    "scrolled": true
   },
   "outputs": [
    {
     "data": {
      "text/plain": [
       "tensor([[ 5.1812e-01,  5.1631e-01, -4.7143e-01, -1.0847e+00, -2.1510e-01,\n",
       "          8.1388e-01,  2.8395e-01, -8.5789e-02, -4.0581e-01, -7.8925e-01,\n",
       "          7.4257e-01, -3.3416e-01, -2.2374e-01,  9.8474e-01, -4.4486e-01,\n",
       "         -2.3760e-01,  4.5337e-01, -1.3030e-03,  9.0442e-01,  1.5773e+00,\n",
       "         -2.2499e-01, -1.4615e-01,  6.8150e-01, -6.5799e-01,  1.0085e+00,\n",
       "          1.5149e-01,  3.1006e-01,  3.5921e-01,  1.4890e-01,  9.7998e-01,\n",
       "         -6.1513e-01,  1.9100e-02,  2.3167e-01, -5.6899e-02,  2.2708e-01,\n",
       "          1.1635e+00,  2.2482e-01, -4.7765e-01, -2.9390e-01,  2.2855e-02,\n",
       "          5.8462e-01,  1.2949e-01,  1.3110e+00, -4.6095e-01,  4.1853e-01,\n",
       "         -3.6628e-01,  1.6587e-01, -5.2312e-01,  1.8616e-01,  1.9678e-02,\n",
       "          6.6617e-01, -5.8809e-01, -6.7988e-01, -3.9126e-01, -8.6370e-01,\n",
       "          2.9800e-01,  1.2985e+00,  2.4709e-01, -3.1937e-01,  2.7713e-01,\n",
       "          3.1121e-01,  7.4521e-01, -9.1931e-02,  3.2423e-01,  8.6943e-02,\n",
       "          4.8576e-01, -2.8681e-01, -3.6029e-01, -4.7819e-01,  1.1175e-01,\n",
       "         -7.3309e-02, -2.7401e-01, -5.5604e-01, -7.2684e-01, -2.6461e-01,\n",
       "         -5.4489e-01,  5.0178e-01, -1.0990e+00,  6.2256e-01,  6.6375e-01,\n",
       "         -7.5658e-01, -1.6470e-01, -3.5012e-01,  4.9549e-01,  4.9419e-02,\n",
       "         -6.0290e-01, -2.9761e-01, -8.2182e-02,  8.4181e-01,  4.5237e-01,\n",
       "          1.0441e+00, -1.8335e-01,  2.9681e+00, -5.0363e-01, -4.0343e-01,\n",
       "         -1.1557e-01, -2.5024e-01,  8.1000e-01, -1.2894e+00,  7.0693e-01,\n",
       "         -2.7341e-01,  1.5411e-02,  6.0070e-02, -8.6081e-02, -1.9394e-01,\n",
       "         -8.5725e-01, -3.4249e-02,  2.0139e-01,  5.1650e-01,  3.8294e-01,\n",
       "         -5.5835e-02,  2.0227e-01,  2.4488e+00,  1.2980e+00,  1.2131e+00,\n",
       "         -1.0634e-01, -1.6359e+00, -1.7293e-01, -1.8716e-01, -8.2586e-01,\n",
       "         -5.3680e-01, -6.7299e-01, -2.5725e-01,  2.2165e-01, -3.8097e-01,\n",
       "          2.5800e-01,  1.9076e-01,  1.0923e-01, -1.1878e-01,  2.3828e-01,\n",
       "         -5.9994e-01, -2.1596e-02, -1.2826e+00, -3.9373e-01,  1.0306e-01,\n",
       "          6.7264e-01,  3.6191e-01, -2.2072e-01,  1.1954e+00, -2.2593e-01,\n",
       "         -3.3449e-02, -1.7142e+00,  5.7670e-01, -5.3673e-01,  3.9465e-01,\n",
       "         -1.2516e+00, -4.7386e-01,  3.9014e-01,  7.9909e-01,  2.7967e-01,\n",
       "         -2.6070e-01, -3.3120e-01,  6.9745e-03, -1.1656e+00,  7.8596e-01,\n",
       "          2.3239e-01,  4.6711e-01, -3.6648e-01, -9.8721e-02, -1.2074e-01,\n",
       "          2.1134e-02, -8.8283e-02, -4.4862e-01,  9.4864e-01, -4.7061e-02,\n",
       "         -8.2445e-02, -7.5797e-02,  3.9122e-01, -8.8932e-01,  1.2705e-01,\n",
       "          2.4079e-01,  3.8092e-01, -9.4340e-01,  4.4236e-02, -9.7462e-02,\n",
       "          9.3958e-01,  5.0412e-01, -1.1937e-01, -4.9023e-01, -4.6395e-01,\n",
       "          2.0530e-01,  4.1958e-02,  6.8333e-01,  1.1791e-01,  6.9719e-01,\n",
       "         -2.5230e-01, -3.2361e-01, -7.8420e-01, -7.3820e-01,  5.7820e-01,\n",
       "         -3.6810e-02, -4.2185e-01, -1.0514e+00,  8.9163e-02,  1.4779e+00,\n",
       "         -2.6069e-01,  8.2187e-01,  1.6092e+00,  1.4582e-01, -6.2725e-01,\n",
       "         -2.3274e-01, -1.4301e-01,  1.6159e-01,  2.0927e-01,  3.3394e+00,\n",
       "         -4.8489e-01,  2.2106e+00, -3.6520e-01, -6.7906e-01, -3.2092e-01,\n",
       "          4.2186e-01, -7.7208e-01, -1.1802e-01,  1.2697e+00,  2.4238e-01,\n",
       "         -1.8007e+00,  7.6162e-01,  2.6451e-01, -6.3891e-01,  3.8293e-01,\n",
       "          3.7996e-01, -1.5550e-01,  5.1727e-01,  2.5655e-01, -7.3037e-01,\n",
       "         -4.2716e-01, -2.7721e-01, -6.5226e-02, -6.5450e-01,  8.5464e-01,\n",
       "         -7.9858e-01, -8.8286e-01, -1.5244e-01, -3.7935e-01,  1.2853e-01,\n",
       "         -8.2308e-01, -3.0725e-02, -6.6780e-01, -6.9004e-02, -9.9427e-01,\n",
       "         -9.6740e-02,  1.9008e-01, -4.2044e-01, -3.9298e-01,  2.9607e-02,\n",
       "         -3.5570e-01,  5.9454e-02, -6.7880e-02, -2.5468e-01, -7.4758e-01,\n",
       "         -8.8520e-01, -6.9691e-01, -7.8449e-01, -4.7738e-01,  2.4444e-01,\n",
       "         -2.5426e-01,  2.4894e-01, -3.0363e-01,  8.6771e-01, -1.9094e-01,\n",
       "          1.3862e+00, -6.9378e-01, -4.6263e-01,  2.2505e-01, -1.4528e+00,\n",
       "          2.0809e-01, -6.3443e-01, -5.3693e-01,  5.8891e-01, -4.5793e-01,\n",
       "          9.0754e-02,  9.5678e-01, -1.4022e-01,  1.7369e+00, -6.8900e-01,\n",
       "         -2.2982e-02,  2.4478e-01, -6.1696e-02,  3.4048e-01,  3.6469e-01,\n",
       "          1.1134e-01,  4.6880e-01, -1.3223e+00,  4.0454e-01,  5.2094e-02,\n",
       "          1.5578e-01, -6.2057e-01, -6.0101e-01, -4.1078e-01, -9.5115e-01,\n",
       "          9.2285e-01,  4.3404e-01,  1.4623e-01, -9.7886e-02, -4.3310e-01,\n",
       "          3.3643e-01, -5.1450e-01,  3.6550e-01, -4.7682e-02, -1.0088e+00,\n",
       "          3.0991e-01, -3.1522e-02, -1.8229e-01,  6.9183e-01, -1.9239e-01,\n",
       "          1.1854e-01, -8.5597e-02,  8.1879e-02, -1.8513e-01,  1.0983e+00,\n",
       "          7.0501e-01, -1.4589e+00]])"
      ]
     },
     "execution_count": 22,
     "metadata": {},
     "output_type": "execute_result"
    }
   ],
   "source": [
    "text = encode_text('Костюшко')\n",
    "\n",
    "with torch.no_grad():\n",
    "    text_embedding2 = model(text).last_hidden_state.mean(dim=1)  # Получаем эмбеддинг для запроса\n",
    "text_embedding2"
   ]
  },
  {
   "cell_type": "code",
   "execution_count": 28,
   "id": "47ffb8ce-8889-4571-b474-3ccf2bcd1dbe",
   "metadata": {},
   "outputs": [
    {
     "data": {
      "text/plain": [
       "(tensor(38.0704), 312)"
      ]
     },
     "execution_count": 28,
     "metadata": {},
     "output_type": "execute_result"
    }
   ],
   "source": [
    "torch.sum(torch.abs(text_embedding1-text_embedding2)), len(text_embedding1[0])"
   ]
  },
  {
   "cell_type": "code",
   "execution_count": null,
   "id": "8901517a-b7c9-4626-94ce-e2c235eaeba6",
   "metadata": {},
   "outputs": [],
   "source": []
  },
  {
   "cell_type": "markdown",
   "id": "eb1bacab-4321-4494-93fa-9d277e8d715a",
   "metadata": {
    "jp-MarkdownHeadingCollapsed": true
   },
   "source": [
    "## Старое"
   ]
  },
  {
   "cell_type": "markdown",
   "id": "93ddb20e-ba1a-433b-a715-e8b76a4c9c8f",
   "metadata": {},
   "source": [
    "без софтмакса"
   ]
  },
  {
   "cell_type": "code",
   "execution_count": null,
   "id": "7ef9d7f4-d204-4018-adbb-69c6429afee5",
   "metadata": {},
   "outputs": [],
   "source": [
    "import torch\n",
    "from transformers import AutoTokenizer, AutoModel\n",
    "\n",
    "def rank_answers(df, model_name='cointegrated/rubert-tiny'):\n",
    "    # Загрузка модели и токенизатора\n",
    "    tokenizer = AutoTokenizer.from_pretrained(model_name)\n",
    "    model = AutoModel.from_pretrained(model_name)\n",
    "    \n",
    "    # Применяем токенизацию с обрезанием длины\n",
    "    def encode_text(text):\n",
    "        return tokenizer.encode(text, max_length=512, truncation=True, return_tensors='pt')\n",
    "    \n",
    "    # Создаем представления для запросов и ответов\n",
    "    queries = df['query'].apply(encode_text)\n",
    "    answers = df['text'].apply(encode_text)\n",
    "    \n",
    "    # Рассчитываем сходства (например, косинусное)\n",
    "    similarities = []\n",
    "    for query, answer in zip(queries, answers):\n",
    "        with torch.no_grad():\n",
    "            query_embedding = model(query).last_hidden_state.mean(dim=1)  # Получаем эмбеддинг для запроса\n",
    "            answer_embedding = model(answer).last_hidden_state.mean(dim=1)  # Эмбеддинг для ответа\n",
    "            similarity = torch.cosine_similarity(query_embedding, answer_embedding).item()\n",
    "            similarities.append(similarity)\n",
    "    \n",
    "    # Используем .loc для изменения DataFrame\n",
    "    df.loc[:, 'similarity'] = similarities\n",
    "    \n",
    "    # Сортируем по сходству\n",
    "    df_sorted = df.sort_values(by='similarity', ascending=False).reset_index(drop=True)\n",
    "    \n",
    "    return df_sorted\n"
   ]
  }
 ],
 "metadata": {
  "kernelspec": {
   "display_name": "Python 3 (ipykernel)",
   "language": "python",
   "name": "python3"
  },
  "language_info": {
   "codemirror_mode": {
    "name": "ipython",
    "version": 3
   },
   "file_extension": ".py",
   "mimetype": "text/x-python",
   "name": "python",
   "nbconvert_exporter": "python",
   "pygments_lexer": "ipython3",
   "version": "3.11.7"
  }
 },
 "nbformat": 4,
 "nbformat_minor": 5
}
